{
  "nbformat": 4,
  "nbformat_minor": 0,
  "metadata": {
    "kernelspec": {
      "display_name": "Python 3",
      "language": "python",
      "name": "python3"
    },
    "language_info": {
      "codemirror_mode": {
        "name": "ipython",
        "version": 3
      },
      "file_extension": ".py",
      "mimetype": "text/x-python",
      "name": "python",
      "nbconvert_exporter": "python",
      "pygments_lexer": "ipython3",
      "version": "3.6.1"
    },
    "colab": {
      "name": "Amazon Product Feedback Analysis",
      "provenance": [],
      "collapsed_sections": [
        "6tS4zZFst0cy"
      ]
    }
  },
  "cells": [
    {
      "cell_type": "markdown",
      "metadata": {
        "id": "Kb6hIo20t0cJ"
      },
      "source": [
        "# 1) Import Libraries"
      ]
    },
    {
      "cell_type": "code",
      "metadata": {
        "collapsed": true,
        "id": "0nC5Rcrnt0cP"
      },
      "source": [
        "#Importing libraries\n",
        "import pandas as pd\n",
        "import numpy as np\n",
        "import matplotlib.pyplot as plt\n",
        "import seaborn as sns\n",
        "%matplotlib inline\n",
        "%config InlineBackend.figure_format = 'retina'\n",
        "import warnings\n",
        "warnings.filterwarnings('ignore')"
      ],
      "execution_count": null,
      "outputs": []
    },
    {
      "cell_type": "markdown",
      "metadata": {
        "id": "MgL5J_lUt0cT"
      },
      "source": [
        "# 2) Import Data"
      ]
    },
    {
      "cell_type": "code",
      "metadata": {
        "collapsed": true,
        "id": "vg0gLZoUt0cV"
      },
      "source": [
        "#importing dataset\n",
        "amazon_data = pd.read_csv('Amazon_Unlocked_Mobile.csv')"
      ],
      "execution_count": null,
      "outputs": []
    },
    {
      "cell_type": "code",
      "metadata": {
        "id": "IOVTd5QPrVYU",
        "colab": {
          "base_uri": "https://localhost:8080/"
        },
        "outputId": "e35323f8-d47d-4e5d-b497-3cd447079623"
      },
      "source": [
        "from google.colab import drive\n",
        "drive.mount('/content/drive')"
      ],
      "execution_count": null,
      "outputs": [
        {
          "output_type": "stream",
          "name": "stdout",
          "text": [
            "Mounted at /content/drive\n"
          ]
        }
      ]
    },
    {
      "cell_type": "code",
      "metadata": {
        "collapsed": true,
        "id": "ChmiK0hrt0cW"
      },
      "source": [
        "#removing titles parts from dataset\n",
        "amazon_data = amazon_data.dropna(axis = 0)"
      ],
      "execution_count": null,
      "outputs": []
    },
    {
      "cell_type": "code",
      "metadata": {
        "id": "9NQkHJHCt0cX",
        "colab": {
          "base_uri": "https://localhost:8080/"
        },
        "outputId": "98a56e84-24b6-4112-fc4b-a3573d39d05d"
      },
      "source": [
        "#Displaying shape of data\n",
        "amazon_data.shape"
      ],
      "execution_count": null,
      "outputs": [
        {
          "output_type": "execute_result",
          "data": {
            "text/plain": [
              "(78466, 6)"
            ]
          },
          "metadata": {},
          "execution_count": 10
        }
      ]
    },
    {
      "cell_type": "code",
      "metadata": {
        "id": "0QQSTU99t0ca",
        "colab": {
          "base_uri": "https://localhost:8080/",
          "height": 203
        },
        "outputId": "b7d8ad46-85f5-4f08-aea0-3a6aad58f5a7"
      },
      "source": [
        "#Printing head(Top) data in dataset\n",
        "amazon_data.head()"
      ],
      "execution_count": null,
      "outputs": [
        {
          "output_type": "execute_result",
          "data": {
            "text/html": [
              "<div>\n",
              "<style scoped>\n",
              "    .dataframe tbody tr th:only-of-type {\n",
              "        vertical-align: middle;\n",
              "    }\n",
              "\n",
              "    .dataframe tbody tr th {\n",
              "        vertical-align: top;\n",
              "    }\n",
              "\n",
              "    .dataframe thead th {\n",
              "        text-align: right;\n",
              "    }\n",
              "</style>\n",
              "<table border=\"1\" class=\"dataframe\">\n",
              "  <thead>\n",
              "    <tr style=\"text-align: right;\">\n",
              "      <th></th>\n",
              "      <th>Product Name</th>\n",
              "      <th>Brand Name</th>\n",
              "      <th>Price</th>\n",
              "      <th>Rating</th>\n",
              "      <th>Reviews</th>\n",
              "      <th>Review Votes</th>\n",
              "    </tr>\n",
              "  </thead>\n",
              "  <tbody>\n",
              "    <tr>\n",
              "      <th>0</th>\n",
              "      <td>\"CLEAR CLEAN ESN\" Sprint EPIC 4G Galaxy SPH-D7...</td>\n",
              "      <td>Samsung</td>\n",
              "      <td>199.99</td>\n",
              "      <td>5.0</td>\n",
              "      <td>I feel so LUCKY to have found this used (phone...</td>\n",
              "      <td>1.0</td>\n",
              "    </tr>\n",
              "    <tr>\n",
              "      <th>1</th>\n",
              "      <td>\"CLEAR CLEAN ESN\" Sprint EPIC 4G Galaxy SPH-D7...</td>\n",
              "      <td>Samsung</td>\n",
              "      <td>199.99</td>\n",
              "      <td>4.0</td>\n",
              "      <td>nice phone, nice up grade from my pantach revu...</td>\n",
              "      <td>0.0</td>\n",
              "    </tr>\n",
              "    <tr>\n",
              "      <th>2</th>\n",
              "      <td>\"CLEAR CLEAN ESN\" Sprint EPIC 4G Galaxy SPH-D7...</td>\n",
              "      <td>Samsung</td>\n",
              "      <td>199.99</td>\n",
              "      <td>5.0</td>\n",
              "      <td>Very pleased</td>\n",
              "      <td>0.0</td>\n",
              "    </tr>\n",
              "    <tr>\n",
              "      <th>3</th>\n",
              "      <td>\"CLEAR CLEAN ESN\" Sprint EPIC 4G Galaxy SPH-D7...</td>\n",
              "      <td>Samsung</td>\n",
              "      <td>199.99</td>\n",
              "      <td>4.0</td>\n",
              "      <td>It works good but it goes slow sometimes but i...</td>\n",
              "      <td>0.0</td>\n",
              "    </tr>\n",
              "    <tr>\n",
              "      <th>4</th>\n",
              "      <td>\"CLEAR CLEAN ESN\" Sprint EPIC 4G Galaxy SPH-D7...</td>\n",
              "      <td>Samsung</td>\n",
              "      <td>199.99</td>\n",
              "      <td>4.0</td>\n",
              "      <td>Great phone to replace my lost phone. The only...</td>\n",
              "      <td>0.0</td>\n",
              "    </tr>\n",
              "  </tbody>\n",
              "</table>\n",
              "</div>"
            ],
            "text/plain": [
              "                                        Product Name  ... Review Votes\n",
              "0  \"CLEAR CLEAN ESN\" Sprint EPIC 4G Galaxy SPH-D7...  ...          1.0\n",
              "1  \"CLEAR CLEAN ESN\" Sprint EPIC 4G Galaxy SPH-D7...  ...          0.0\n",
              "2  \"CLEAR CLEAN ESN\" Sprint EPIC 4G Galaxy SPH-D7...  ...          0.0\n",
              "3  \"CLEAR CLEAN ESN\" Sprint EPIC 4G Galaxy SPH-D7...  ...          0.0\n",
              "4  \"CLEAR CLEAN ESN\" Sprint EPIC 4G Galaxy SPH-D7...  ...          0.0\n",
              "\n",
              "[5 rows x 6 columns]"
            ]
          },
          "metadata": {},
          "execution_count": 11
        }
      ]
    },
    {
      "cell_type": "code",
      "metadata": {
        "collapsed": true,
        "id": "kCPq_8hVt0cb"
      },
      "source": [
        "#Taking only reviews and ratings column in dataset\n",
        "amazon_data=amazon_data[[\"Reviews\",\"Rating\"]]"
      ],
      "execution_count": null,
      "outputs": []
    },
    {
      "cell_type": "code",
      "metadata": {
        "id": "x_jtsA6wt0cd",
        "colab": {
          "base_uri": "https://localhost:8080/",
          "height": 203
        },
        "outputId": "ebb71fd5-2149-4d31-968e-6853552f9616"
      },
      "source": [
        "#Printing head part of new data\n",
        "amazon_data.head()"
      ],
      "execution_count": null,
      "outputs": [
        {
          "output_type": "execute_result",
          "data": {
            "text/html": [
              "<div>\n",
              "<style scoped>\n",
              "    .dataframe tbody tr th:only-of-type {\n",
              "        vertical-align: middle;\n",
              "    }\n",
              "\n",
              "    .dataframe tbody tr th {\n",
              "        vertical-align: top;\n",
              "    }\n",
              "\n",
              "    .dataframe thead th {\n",
              "        text-align: right;\n",
              "    }\n",
              "</style>\n",
              "<table border=\"1\" class=\"dataframe\">\n",
              "  <thead>\n",
              "    <tr style=\"text-align: right;\">\n",
              "      <th></th>\n",
              "      <th>Reviews</th>\n",
              "      <th>Rating</th>\n",
              "    </tr>\n",
              "  </thead>\n",
              "  <tbody>\n",
              "    <tr>\n",
              "      <th>0</th>\n",
              "      <td>I feel so LUCKY to have found this used (phone...</td>\n",
              "      <td>5.0</td>\n",
              "    </tr>\n",
              "    <tr>\n",
              "      <th>1</th>\n",
              "      <td>nice phone, nice up grade from my pantach revu...</td>\n",
              "      <td>4.0</td>\n",
              "    </tr>\n",
              "    <tr>\n",
              "      <th>2</th>\n",
              "      <td>Very pleased</td>\n",
              "      <td>5.0</td>\n",
              "    </tr>\n",
              "    <tr>\n",
              "      <th>3</th>\n",
              "      <td>It works good but it goes slow sometimes but i...</td>\n",
              "      <td>4.0</td>\n",
              "    </tr>\n",
              "    <tr>\n",
              "      <th>4</th>\n",
              "      <td>Great phone to replace my lost phone. The only...</td>\n",
              "      <td>4.0</td>\n",
              "    </tr>\n",
              "  </tbody>\n",
              "</table>\n",
              "</div>"
            ],
            "text/plain": [
              "                                             Reviews  Rating\n",
              "0  I feel so LUCKY to have found this used (phone...     5.0\n",
              "1  nice phone, nice up grade from my pantach revu...     4.0\n",
              "2                                       Very pleased     5.0\n",
              "3  It works good but it goes slow sometimes but i...     4.0\n",
              "4  Great phone to replace my lost phone. The only...     4.0"
            ]
          },
          "metadata": {},
          "execution_count": 13
        }
      ]
    },
    {
      "cell_type": "code",
      "metadata": {
        "collapsed": true,
        "id": "Oi70APzgt0cf"
      },
      "source": [
        "#Considering 4 and 5 data as positive we have assigned it to positive variable\n",
        "amazon_data_pos=amazon_data[amazon_data[\"Rating\"].isin([4,5])]"
      ],
      "execution_count": null,
      "outputs": []
    },
    {
      "cell_type": "code",
      "metadata": {
        "id": "e21heUDSt0cg",
        "colab": {
          "base_uri": "https://localhost:8080/",
          "height": 203
        },
        "outputId": "7c72e54c-f83c-4208-85f9-639978c2f0fa"
      },
      "source": [
        "#printing positive data\n",
        "amazon_data_pos.head()"
      ],
      "execution_count": null,
      "outputs": [
        {
          "output_type": "execute_result",
          "data": {
            "text/html": [
              "<div>\n",
              "<style scoped>\n",
              "    .dataframe tbody tr th:only-of-type {\n",
              "        vertical-align: middle;\n",
              "    }\n",
              "\n",
              "    .dataframe tbody tr th {\n",
              "        vertical-align: top;\n",
              "    }\n",
              "\n",
              "    .dataframe thead th {\n",
              "        text-align: right;\n",
              "    }\n",
              "</style>\n",
              "<table border=\"1\" class=\"dataframe\">\n",
              "  <thead>\n",
              "    <tr style=\"text-align: right;\">\n",
              "      <th></th>\n",
              "      <th>Reviews</th>\n",
              "      <th>Rating</th>\n",
              "    </tr>\n",
              "  </thead>\n",
              "  <tbody>\n",
              "    <tr>\n",
              "      <th>0</th>\n",
              "      <td>I feel so LUCKY to have found this used (phone...</td>\n",
              "      <td>5.0</td>\n",
              "    </tr>\n",
              "    <tr>\n",
              "      <th>1</th>\n",
              "      <td>nice phone, nice up grade from my pantach revu...</td>\n",
              "      <td>4.0</td>\n",
              "    </tr>\n",
              "    <tr>\n",
              "      <th>2</th>\n",
              "      <td>Very pleased</td>\n",
              "      <td>5.0</td>\n",
              "    </tr>\n",
              "    <tr>\n",
              "      <th>3</th>\n",
              "      <td>It works good but it goes slow sometimes but i...</td>\n",
              "      <td>4.0</td>\n",
              "    </tr>\n",
              "    <tr>\n",
              "      <th>4</th>\n",
              "      <td>Great phone to replace my lost phone. The only...</td>\n",
              "      <td>4.0</td>\n",
              "    </tr>\n",
              "  </tbody>\n",
              "</table>\n",
              "</div>"
            ],
            "text/plain": [
              "                                             Reviews  Rating\n",
              "0  I feel so LUCKY to have found this used (phone...     5.0\n",
              "1  nice phone, nice up grade from my pantach revu...     4.0\n",
              "2                                       Very pleased     5.0\n",
              "3  It works good but it goes slow sometimes but i...     4.0\n",
              "4  Great phone to replace my lost phone. The only...     4.0"
            ]
          },
          "metadata": {},
          "execution_count": 15
        }
      ]
    },
    {
      "cell_type": "code",
      "metadata": {
        "id": "50Qab5JSt0ch",
        "colab": {
          "base_uri": "https://localhost:8080/",
          "height": 203
        },
        "outputId": "e33f8c7e-11f5-426c-b205-3db6872f9376"
      },
      "source": [
        "#printing bottom data in dataset\n",
        "amazon_data_pos.tail()"
      ],
      "execution_count": null,
      "outputs": [
        {
          "output_type": "execute_result",
          "data": {
            "text/html": [
              "<div>\n",
              "<style scoped>\n",
              "    .dataframe tbody tr th:only-of-type {\n",
              "        vertical-align: middle;\n",
              "    }\n",
              "\n",
              "    .dataframe tbody tr th {\n",
              "        vertical-align: top;\n",
              "    }\n",
              "\n",
              "    .dataframe thead th {\n",
              "        text-align: right;\n",
              "    }\n",
              "</style>\n",
              "<table border=\"1\" class=\"dataframe\">\n",
              "  <thead>\n",
              "    <tr style=\"text-align: right;\">\n",
              "      <th></th>\n",
              "      <th>Reviews</th>\n",
              "      <th>Rating</th>\n",
              "    </tr>\n",
              "  </thead>\n",
              "  <tbody>\n",
              "    <tr>\n",
              "      <th>102612</th>\n",
              "      <td>Always BlackBerry ...good Z30.</td>\n",
              "      <td>5.0</td>\n",
              "    </tr>\n",
              "    <tr>\n",
              "      <th>102614</th>\n",
              "      <td>It's excellent buy by Amazon and the items bought</td>\n",
              "      <td>5.0</td>\n",
              "    </tr>\n",
              "    <tr>\n",
              "      <th>102615</th>\n",
              "      <td>Awesome unlocked phone !! The potential of thi...</td>\n",
              "      <td>5.0</td>\n",
              "    </tr>\n",
              "    <tr>\n",
              "      <th>102616</th>\n",
              "      <td>i like it very much,</td>\n",
              "      <td>5.0</td>\n",
              "    </tr>\n",
              "    <tr>\n",
              "      <th>102618</th>\n",
              "      <td>LOVED IT... THANK YOU GUYS</td>\n",
              "      <td>5.0</td>\n",
              "    </tr>\n",
              "  </tbody>\n",
              "</table>\n",
              "</div>"
            ],
            "text/plain": [
              "                                                  Reviews  Rating\n",
              "102612                     Always BlackBerry ...good Z30.     5.0\n",
              "102614  It's excellent buy by Amazon and the items bought     5.0\n",
              "102615  Awesome unlocked phone !! The potential of thi...     5.0\n",
              "102616                               i like it very much,     5.0\n",
              "102618                         LOVED IT... THANK YOU GUYS     5.0"
            ]
          },
          "metadata": {},
          "execution_count": 16
        }
      ]
    },
    {
      "cell_type": "code",
      "metadata": {
        "collapsed": true,
        "id": "RmoiBG4jt0ci"
      },
      "source": [
        "#Considering 1,2 start reviews as negative we have assigned it to negative variable\n",
        "amazon_data_neg=amazon_data[amazon_data[\"Rating\"].isin([1,2])]"
      ],
      "execution_count": null,
      "outputs": []
    },
    {
      "cell_type": "code",
      "metadata": {
        "id": "-KVGQih0t0cj",
        "colab": {
          "base_uri": "https://localhost:8080/",
          "height": 203
        },
        "outputId": "7cb683b1-39b2-4d6e-eff7-0479a405063b"
      },
      "source": [
        "# printing negative data head(top) data\n",
        "amazon_data_neg.head()"
      ],
      "execution_count": null,
      "outputs": [
        {
          "output_type": "execute_result",
          "data": {
            "text/html": [
              "<div>\n",
              "<style scoped>\n",
              "    .dataframe tbody tr th:only-of-type {\n",
              "        vertical-align: middle;\n",
              "    }\n",
              "\n",
              "    .dataframe tbody tr th {\n",
              "        vertical-align: top;\n",
              "    }\n",
              "\n",
              "    .dataframe thead th {\n",
              "        text-align: right;\n",
              "    }\n",
              "</style>\n",
              "<table border=\"1\" class=\"dataframe\">\n",
              "  <thead>\n",
              "    <tr style=\"text-align: right;\">\n",
              "      <th></th>\n",
              "      <th>Reviews</th>\n",
              "      <th>Rating</th>\n",
              "    </tr>\n",
              "  </thead>\n",
              "  <tbody>\n",
              "    <tr>\n",
              "      <th>5</th>\n",
              "      <td>I already had a phone with problems... I know ...</td>\n",
              "      <td>1.0</td>\n",
              "    </tr>\n",
              "    <tr>\n",
              "      <th>6</th>\n",
              "      <td>The charging port was loose. I got that solder...</td>\n",
              "      <td>2.0</td>\n",
              "    </tr>\n",
              "    <tr>\n",
              "      <th>7</th>\n",
              "      <td>Phone looks good but wouldn't stay charged, ha...</td>\n",
              "      <td>2.0</td>\n",
              "    </tr>\n",
              "    <tr>\n",
              "      <th>13</th>\n",
              "      <td>I'm really disappointed about my phone and ser...</td>\n",
              "      <td>1.0</td>\n",
              "    </tr>\n",
              "    <tr>\n",
              "      <th>15</th>\n",
              "      <td>Had this phone before and loved it but was not...</td>\n",
              "      <td>2.0</td>\n",
              "    </tr>\n",
              "  </tbody>\n",
              "</table>\n",
              "</div>"
            ],
            "text/plain": [
              "                                              Reviews  Rating\n",
              "5   I already had a phone with problems... I know ...     1.0\n",
              "6   The charging port was loose. I got that solder...     2.0\n",
              "7   Phone looks good but wouldn't stay charged, ha...     2.0\n",
              "13  I'm really disappointed about my phone and ser...     1.0\n",
              "15  Had this phone before and loved it but was not...     2.0"
            ]
          },
          "metadata": {},
          "execution_count": 18
        }
      ]
    },
    {
      "cell_type": "code",
      "metadata": {
        "id": "lJBc_oEit0ck",
        "colab": {
          "base_uri": "https://localhost:8080/",
          "height": 203
        },
        "outputId": "ab9052d9-e61f-4679-bd5f-d7f4443f8de8"
      },
      "source": [
        "#  Printing bottom data of dataset\n",
        "amazon_data_neg.tail()"
      ],
      "execution_count": null,
      "outputs": [
        {
          "output_type": "execute_result",
          "data": {
            "text/html": [
              "<div>\n",
              "<style scoped>\n",
              "    .dataframe tbody tr th:only-of-type {\n",
              "        vertical-align: middle;\n",
              "    }\n",
              "\n",
              "    .dataframe tbody tr th {\n",
              "        vertical-align: top;\n",
              "    }\n",
              "\n",
              "    .dataframe thead th {\n",
              "        text-align: right;\n",
              "    }\n",
              "</style>\n",
              "<table border=\"1\" class=\"dataframe\">\n",
              "  <thead>\n",
              "    <tr style=\"text-align: right;\">\n",
              "      <th></th>\n",
              "      <th>Reviews</th>\n",
              "      <th>Rating</th>\n",
              "    </tr>\n",
              "  </thead>\n",
              "  <tbody>\n",
              "    <tr>\n",
              "      <th>102593</th>\n",
              "      <td>I BOUGHT THE BBZ30, SUPPOSEDLY UNLOCKED TO USE...</td>\n",
              "      <td>1.0</td>\n",
              "    </tr>\n",
              "    <tr>\n",
              "      <th>102598</th>\n",
              "      <td>I didn't like this Phone as this was Too Slow ...</td>\n",
              "      <td>2.0</td>\n",
              "    </tr>\n",
              "    <tr>\n",
              "      <th>102609</th>\n",
              "      <td>Received the mobile phone with 2 major problem...</td>\n",
              "      <td>1.0</td>\n",
              "    </tr>\n",
              "    <tr>\n",
              "      <th>102613</th>\n",
              "      <td>Phone was not brand new. Came in a ragged crum...</td>\n",
              "      <td>1.0</td>\n",
              "    </tr>\n",
              "    <tr>\n",
              "      <th>102617</th>\n",
              "      <td>its supoussed to be UNLOCKED, but the phone is...</td>\n",
              "      <td>1.0</td>\n",
              "    </tr>\n",
              "  </tbody>\n",
              "</table>\n",
              "</div>"
            ],
            "text/plain": [
              "                                                  Reviews  Rating\n",
              "102593  I BOUGHT THE BBZ30, SUPPOSEDLY UNLOCKED TO USE...     1.0\n",
              "102598  I didn't like this Phone as this was Too Slow ...     2.0\n",
              "102609  Received the mobile phone with 2 major problem...     1.0\n",
              "102613  Phone was not brand new. Came in a ragged crum...     1.0\n",
              "102617  its supoussed to be UNLOCKED, but the phone is...     1.0"
            ]
          },
          "metadata": {},
          "execution_count": 19
        }
      ]
    },
    {
      "cell_type": "code",
      "metadata": {
        "id": "eqRAvTcyt0cl",
        "colab": {
          "base_uri": "https://localhost:8080/"
        },
        "outputId": "bc6119fb-8d1e-433a-e18c-ea28b07e5812"
      },
      "source": [
        "#Counting number of reviews by rating\n",
        "amazon_data.Rating.value_counts()"
      ],
      "execution_count": null,
      "outputs": [
        {
          "output_type": "execute_result",
          "data": {
            "text/plain": [
              "5.0    46499\n",
              "1.0    14443\n",
              "4.0     9196\n",
              "3.0     4560\n",
              "2.0     3768\n",
              "Name: Rating, dtype: int64"
            ]
          },
          "metadata": {},
          "execution_count": 20
        }
      ]
    },
    {
      "cell_type": "code",
      "metadata": {
        "scrolled": true,
        "id": "NO6ScwA1t0cl",
        "colab": {
          "base_uri": "https://localhost:8080/",
          "height": 282
        },
        "outputId": "e7ec8126-63c0-4030-92e9-ad072dcaf399"
      },
      "source": [
        "# ploting it in bar graph\n",
        "sns.barplot(x=amazon_data.Rating.value_counts().index,y=amazon_data.Rating.value_counts().values)"
      ],
      "execution_count": null,
      "outputs": [
        {
          "output_type": "execute_result",
          "data": {
            "text/plain": [
              "<matplotlib.axes._subplots.AxesSubplot at 0x7fe2a5514550>"
            ]
          },
          "metadata": {},
          "execution_count": 21
        },
        {
          "output_type": "display_data",
          "data": {
            "image/png": "[encoded data removed]",
            "text/plain": [
              "<Figure size 432x288 with 1 Axes>"
            ]
          },
          "metadata": {
            "image/png": {
              "width": 388,
              "height": 248
            },
            "needs_background": "light"
          }
        }
      ]
    },
    {
      "cell_type": "code",
      "metadata": {
        "collapsed": true,
        "id": "9xL36iFjt0cn"
      },
      "source": [
        "#filtering 20000 positive and 20000 negative data from it to train model\n",
        "amazon_data_filtered=pd.concat([amazon_data_pos[:20000],amazon_data_neg[:20000]])"
      ],
      "execution_count": null,
      "outputs": []
    },
    {
      "cell_type": "code",
      "metadata": {
        "scrolled": true,
        "id": "lIDC4Mmut0cn",
        "colab": {
          "base_uri": "https://localhost:8080/"
        },
        "outputId": "48ca4df6-60d3-434c-fd74-aebda82dd21c"
      },
      "source": [
        "# Printing dataset shape\n",
        "amazon_data_filtered.shape"
      ],
      "execution_count": null,
      "outputs": [
        {
          "output_type": "execute_result",
          "data": {
            "text/plain": [
              "(38211, 2)"
            ]
          },
          "metadata": {},
          "execution_count": 23
        }
      ]
    },
    {
      "cell_type": "code",
      "metadata": {
        "id": "-yDMMDvUt0co",
        "colab": {
          "base_uri": "https://localhost:8080/",
          "height": 282
        },
        "outputId": "80618fb2-5227-49f2-f3c0-883f5e09b638"
      },
      "source": [
        "# Ploting graph for new dataset\n",
        "sns.barplot(x=amazon_data_filtered.Rating.value_counts().index,y=amazon_data_filtered.Rating.value_counts().values)"
      ],
      "execution_count": null,
      "outputs": [
        {
          "output_type": "execute_result",
          "data": {
            "text/plain": [
              "<matplotlib.axes._subplots.AxesSubplot at 0x7fe2a5315790>"
            ]
          },
          "metadata": {},
          "execution_count": 24
        },
        {
          "output_type": "display_data",
          "data": {
            "image/png": "[encoded data removed]",
            "text/plain": [
              "<Figure size 432x288 with 1 Axes>"
            ]
          },
          "metadata": {
            "image/png": {
              "width": 388,
              "height": 248
            },
            "needs_background": "light"
          }
        }
      ]
    },
    {
      "cell_type": "code",
      "metadata": {
        "collapsed": true,
        "id": "2S4n7LvPt0cp"
      },
      "source": [
        "# Adding r varible to dataset \n",
        "amazon_data_filtered[\"r\"]=1"
      ],
      "execution_count": null,
      "outputs": []
    },
    {
      "cell_type": "code",
      "metadata": {
        "collapsed": true,
        "id": "YPQ1wkYyt0cq"
      },
      "source": [
        "# Making all 1,2 ratings as 0\n",
        "amazon_data_filtered[\"r\"][amazon_data_filtered[\"Rating\"].isin([1,2])]= 0"
      ],
      "execution_count": null,
      "outputs": []
    },
    {
      "cell_type": "code",
      "metadata": {
        "id": "ftZVCqlBt0cq",
        "colab": {
          "base_uri": "https://localhost:8080/",
          "height": 203
        },
        "outputId": "6fbde54d-2b53-4fb5-e59a-90427648bc98"
      },
      "source": [
        "# printing data head\n",
        "amazon_data_filtered.head()"
      ],
      "execution_count": null,
      "outputs": [
        {
          "output_type": "execute_result",
          "data": {
            "text/html": [
              "<div>\n",
              "<style scoped>\n",
              "    .dataframe tbody tr th:only-of-type {\n",
              "        vertical-align: middle;\n",
              "    }\n",
              "\n",
              "    .dataframe tbody tr th {\n",
              "        vertical-align: top;\n",
              "    }\n",
              "\n",
              "    .dataframe thead th {\n",
              "        text-align: right;\n",
              "    }\n",
              "</style>\n",
              "<table border=\"1\" class=\"dataframe\">\n",
              "  <thead>\n",
              "    <tr style=\"text-align: right;\">\n",
              "      <th></th>\n",
              "      <th>Reviews</th>\n",
              "      <th>Rating</th>\n",
              "      <th>r</th>\n",
              "    </tr>\n",
              "  </thead>\n",
              "  <tbody>\n",
              "    <tr>\n",
              "      <th>0</th>\n",
              "      <td>I feel so LUCKY to have found this used (phone...</td>\n",
              "      <td>5.0</td>\n",
              "      <td>1</td>\n",
              "    </tr>\n",
              "    <tr>\n",
              "      <th>1</th>\n",
              "      <td>nice phone, nice up grade from my pantach revu...</td>\n",
              "      <td>4.0</td>\n",
              "      <td>1</td>\n",
              "    </tr>\n",
              "    <tr>\n",
              "      <th>2</th>\n",
              "      <td>Very pleased</td>\n",
              "      <td>5.0</td>\n",
              "      <td>1</td>\n",
              "    </tr>\n",
              "    <tr>\n",
              "      <th>3</th>\n",
              "      <td>It works good but it goes slow sometimes but i...</td>\n",
              "      <td>4.0</td>\n",
              "      <td>1</td>\n",
              "    </tr>\n",
              "    <tr>\n",
              "      <th>4</th>\n",
              "      <td>Great phone to replace my lost phone. The only...</td>\n",
              "      <td>4.0</td>\n",
              "      <td>1</td>\n",
              "    </tr>\n",
              "  </tbody>\n",
              "</table>\n",
              "</div>"
            ],
            "text/plain": [
              "                                             Reviews  Rating  r\n",
              "0  I feel so LUCKY to have found this used (phone...     5.0  1\n",
              "1  nice phone, nice up grade from my pantach revu...     4.0  1\n",
              "2                                       Very pleased     5.0  1\n",
              "3  It works good but it goes slow sometimes but i...     4.0  1\n",
              "4  Great phone to replace my lost phone. The only...     4.0  1"
            ]
          },
          "metadata": {},
          "execution_count": 27
        }
      ]
    },
    {
      "cell_type": "code",
      "metadata": {
        "id": "x_l90kk6t0cr",
        "colab": {
          "base_uri": "https://localhost:8080/",
          "height": 203
        },
        "outputId": "d7055ea4-b51b-4388-942a-2e7da73469d5"
      },
      "source": [
        "# Printing tail part of data\n",
        "amazon_data_filtered.tail()"
      ],
      "execution_count": null,
      "outputs": [
        {
          "output_type": "execute_result",
          "data": {
            "text/html": [
              "<div>\n",
              "<style scoped>\n",
              "    .dataframe tbody tr th:only-of-type {\n",
              "        vertical-align: middle;\n",
              "    }\n",
              "\n",
              "    .dataframe tbody tr th {\n",
              "        vertical-align: top;\n",
              "    }\n",
              "\n",
              "    .dataframe thead th {\n",
              "        text-align: right;\n",
              "    }\n",
              "</style>\n",
              "<table border=\"1\" class=\"dataframe\">\n",
              "  <thead>\n",
              "    <tr style=\"text-align: right;\">\n",
              "      <th></th>\n",
              "      <th>Reviews</th>\n",
              "      <th>Rating</th>\n",
              "      <th>r</th>\n",
              "    </tr>\n",
              "  </thead>\n",
              "  <tbody>\n",
              "    <tr>\n",
              "      <th>102593</th>\n",
              "      <td>I BOUGHT THE BBZ30, SUPPOSEDLY UNLOCKED TO USE...</td>\n",
              "      <td>1.0</td>\n",
              "      <td>0</td>\n",
              "    </tr>\n",
              "    <tr>\n",
              "      <th>102598</th>\n",
              "      <td>I didn't like this Phone as this was Too Slow ...</td>\n",
              "      <td>2.0</td>\n",
              "      <td>0</td>\n",
              "    </tr>\n",
              "    <tr>\n",
              "      <th>102609</th>\n",
              "      <td>Received the mobile phone with 2 major problem...</td>\n",
              "      <td>1.0</td>\n",
              "      <td>0</td>\n",
              "    </tr>\n",
              "    <tr>\n",
              "      <th>102613</th>\n",
              "      <td>Phone was not brand new. Came in a ragged crum...</td>\n",
              "      <td>1.0</td>\n",
              "      <td>0</td>\n",
              "    </tr>\n",
              "    <tr>\n",
              "      <th>102617</th>\n",
              "      <td>its supoussed to be UNLOCKED, but the phone is...</td>\n",
              "      <td>1.0</td>\n",
              "      <td>0</td>\n",
              "    </tr>\n",
              "  </tbody>\n",
              "</table>\n",
              "</div>"
            ],
            "text/plain": [
              "                                                  Reviews  Rating  r\n",
              "102593  I BOUGHT THE BBZ30, SUPPOSEDLY UNLOCKED TO USE...     1.0  0\n",
              "102598  I didn't like this Phone as this was Too Slow ...     2.0  0\n",
              "102609  Received the mobile phone with 2 major problem...     1.0  0\n",
              "102613  Phone was not brand new. Came in a ragged crum...     1.0  0\n",
              "102617  its supoussed to be UNLOCKED, but the phone is...     1.0  0"
            ]
          },
          "metadata": {},
          "execution_count": 28
        }
      ]
    },
    {
      "cell_type": "code",
      "metadata": {
        "id": "eV-9V3Cit0cs",
        "colab": {
          "base_uri": "https://localhost:8080/"
        },
        "outputId": "d19826dc-eb04-4e56-dabd-29ca0e9af6e1"
      },
      "source": [
        "#  Counting 0,1 r data\n",
        "amazon_data_filtered.r.value_counts()"
      ],
      "execution_count": null,
      "outputs": [
        {
          "output_type": "execute_result",
          "data": {
            "text/plain": [
              "1    20000\n",
              "0    18211\n",
              "Name: r, dtype: int64"
            ]
          },
          "metadata": {},
          "execution_count": 29
        }
      ]
    },
    {
      "cell_type": "markdown",
      "metadata": {
        "id": "dSpwRBC2t0cs"
      },
      "source": [
        "# 3)Spilt Train And Test data"
      ]
    },
    {
      "cell_type": "code",
      "metadata": {
        "collapsed": true,
        "id": "eg9-2qOJt0ct"
      },
      "source": [
        "#  imporing sklearn library\n",
        "from sklearn.model_selection import train_test_split"
      ],
      "execution_count": null,
      "outputs": []
    },
    {
      "cell_type": "code",
      "metadata": {
        "collapsed": true,
        "id": "eVB-OePRt0ct"
      },
      "source": [
        "# Spliting dataset into test and traing data \n",
        "X_train_data,x_test_data,Y_train_data,y_test_data=train_test_split(amazon_data_filtered[\"Reviews\"],amazon_data_filtered[\"r\"],test_size=0.2)"
      ],
      "execution_count": null,
      "outputs": []
    },
    {
      "cell_type": "code",
      "metadata": {
        "id": "2u7BCjN8t0cu",
        "colab": {
          "base_uri": "https://localhost:8080/"
        },
        "outputId": "974e4389-fd82-4954-f9d7-eaec92d53651"
      },
      "source": [
        "# Printing head of Y train data\n",
        "Y_train_data.head()"
      ],
      "execution_count": null,
      "outputs": [
        {
          "output_type": "execute_result",
          "data": {
            "text/plain": [
              "35646    1\n",
              "10473    1\n",
              "72745    0\n",
              "20782    1\n",
              "36575    0\n",
              "Name: r, dtype: int64"
            ]
          },
          "metadata": {},
          "execution_count": 32
        }
      ]
    },
    {
      "cell_type": "code",
      "metadata": {
        "scrolled": true,
        "id": "zsL02xcUt0cu",
        "colab": {
          "base_uri": "https://localhost:8080/"
        },
        "outputId": "cf48a4c1-98d1-494e-caf7-5b0f2e14c66b"
      },
      "source": [
        "# Printing head of X train data\n",
        "X_train_data.head()"
      ],
      "execution_count": null,
      "outputs": [
        {
          "output_type": "execute_result",
          "data": {
            "text/plain": [
              "35646                Excellent phone - in great condition.\n",
              "10473                           Just what the hubs needed.\n",
              "72745    It's not Brand New or sealed and nor a factory...\n",
              "20782               Was delivered quickly and works great!\n",
              "36575         it doesn't stay charge long I don't know why\n",
              "Name: Reviews, dtype: object"
            ]
          },
          "metadata": {},
          "execution_count": 33
        }
      ]
    },
    {
      "cell_type": "markdown",
      "metadata": {
        "id": "2lRJKoibt0cv"
      },
      "source": [
        "# 4) Text Transformation\n"
      ]
    },
    {
      "cell_type": "code",
      "metadata": {
        "collapsed": true,
        "id": "M18JKV2st0cv"
      },
      "source": [
        "# imporing library\n",
        "from sklearn.feature_extraction.text import CountVectorizer,TfidfVectorizer"
      ],
      "execution_count": null,
      "outputs": []
    },
    {
      "cell_type": "code",
      "metadata": {
        "collapsed": true,
        "id": "IPqHw0Fpt0cv"
      },
      "source": [
        "# Crate vectorizer function\n",
        "tfidf_vector = TfidfVectorizer(stop_words=\"english\")"
      ],
      "execution_count": null,
      "outputs": []
    },
    {
      "cell_type": "code",
      "metadata": {
        "scrolled": true,
        "id": "EG3rib7Yt0cw",
        "colab": {
          "base_uri": "https://localhost:8080/"
        },
        "outputId": "94d23052-046d-461d-d3da-a5b3783d59a6"
      },
      "source": [
        "# fit data into vector\n",
        "tfidf_vector.fit(X_train_data)"
      ],
      "execution_count": null,
      "outputs": [
        {
          "output_type": "execute_result",
          "data": {
            "text/plain": [
              "TfidfVectorizer(analyzer='word', binary=False, decode_error='strict',\n",
              "                dtype=<class 'numpy.float64'>, encoding='utf-8',\n",
              "                input='content', lowercase=True, max_df=1.0, max_features=None,\n",
              "                min_df=1, ngram_range=(1, 1), norm='l2', preprocessor=None,\n",
              "                smooth_idf=True, stop_words='english', strip_accents=None,\n",
              "                sublinear_tf=False, token_pattern='(?u)\\\\b\\\\w\\\\w+\\\\b',\n",
              "                tokenizer=None, use_idf=True, vocabulary=None)"
            ]
          },
          "metadata": {},
          "execution_count": 36
        }
      ]
    },
    {
      "cell_type": "code",
      "metadata": {
        "id": "mGPh-QFCt0cw",
        "colab": {
          "base_uri": "https://localhost:8080/"
        },
        "outputId": "863cd1a8-595a-4a59-9e9a-bfbbfa3fe975"
      },
      "source": [
        "# printing first and last 20 data\n",
        "print(tfidf_vector.get_feature_names()[0:20])\n",
        "print(tfidf_vector.get_feature_names()[-20:])"
      ],
      "execution_count": null,
      "outputs": [
        {
          "output_type": "stream",
          "name": "stdout",
          "text": [
            "['00', '000', '0000', '000mah', '002', '00emotional', '00now', '00pm', '00so', '00time', '01', '013435003182980', '014', '018633051660f', '02', '03', '04', '04th', '06', '07']\n",
            "['zip', 'ziplock', 'zippy', 'zips', 'zmax', 'zone', 'zones', 'zoom', 'zoomed', 'zooming', 'zte', 'ítem', 'óptico', 'ünlocked', 'ýn', 'śo', '中国要用卡贴', '买来三天就被偷了not', '支持联通移动2g', '还不错']\n"
          ]
        }
      ]
    },
    {
      "cell_type": "code",
      "metadata": {
        "collapsed": true,
        "id": "NrgUYiIot0cx"
      },
      "source": [
        "# Transforming data into vectors\n",
        "X_train_data_new=tfidf_vector.transform(X_train_data)"
      ],
      "execution_count": null,
      "outputs": []
    },
    {
      "cell_type": "code",
      "metadata": {
        "id": "ihX680ICt0cx",
        "colab": {
          "base_uri": "https://localhost:8080/"
        },
        "outputId": "1ab84105-b68d-4e2f-dd10-469ae2fb110e"
      },
      "source": [
        "# Printing new shape of data\n",
        "X_train_data_new.shape"
      ],
      "execution_count": null,
      "outputs": [
        {
          "output_type": "execute_result",
          "data": {
            "text/plain": [
              "(30568, 15356)"
            ]
          },
          "metadata": {},
          "execution_count": 39
        }
      ]
    },
    {
      "cell_type": "code",
      "metadata": {
        "collapsed": true,
        "id": "e20uP_Tct0cy"
      },
      "source": [
        "#  trainforming test test data\n",
        "x_test_data_new=tfidf_vector.transform(x_test_data)"
      ],
      "execution_count": null,
      "outputs": []
    },
    {
      "cell_type": "markdown",
      "metadata": {
        "id": "6tS4zZFst0cy"
      },
      "source": [
        "# 5) Models"
      ]
    },
    {
      "cell_type": "markdown",
      "metadata": {
        "id": "yeyVwRdgt0cz"
      },
      "source": [
        "# 5.1) Logistic Regression"
      ]
    },
    {
      "cell_type": "code",
      "metadata": {
        "collapsed": true,
        "id": "YI2LIqsFt0cz"
      },
      "source": [
        "# Taking dictionary\n",
        "predictions = dict()"
      ],
      "execution_count": null,
      "outputs": []
    },
    {
      "cell_type": "code",
      "metadata": {
        "collapsed": true,
        "id": "htlSic5St0cz"
      },
      "source": [
        "# Importing model from sklearn\n",
        "from sklearn.linear_model import LogisticRegression"
      ],
      "execution_count": null,
      "outputs": []
    },
    {
      "cell_type": "code",
      "metadata": {
        "collapsed": true,
        "id": "yeypUwTZt0c0"
      },
      "source": [
        "# Taking model\n",
        "lr_model = LogisticRegression()"
      ],
      "execution_count": null,
      "outputs": []
    },
    {
      "cell_type": "code",
      "metadata": {
        "id": "_Mb7KYLTt0c0",
        "colab": {
          "base_uri": "https://localhost:8080/"
        },
        "outputId": "c0ede1f1-7ea8-41f1-94c1-806dac93b3af"
      },
      "source": [
        "# Fitting train data into model\n",
        "lr_model.fit(X_train_data_new,Y_train_data)"
      ],
      "execution_count": null,
      "outputs": [
        {
          "output_type": "execute_result",
          "data": {
            "text/plain": [
              "LogisticRegression(C=1.0, class_weight=None, dual=False, fit_intercept=True,\n",
              "                   intercept_scaling=1, l1_ratio=None, max_iter=100,\n",
              "                   multi_class='auto', n_jobs=None, penalty='l2',\n",
              "                   random_state=None, solver='lbfgs', tol=0.0001, verbose=0,\n",
              "                   warm_start=False)"
            ]
          },
          "metadata": {},
          "execution_count": 44
        }
      ]
    },
    {
      "cell_type": "code",
      "metadata": {
        "collapsed": true,
        "id": "gWpWMwXRt0c1"
      },
      "source": [
        "#  Taking accuracy of model\n",
        "predictions[\"LogisticRegression\"] = lr_model.predict(x_test_data_new)"
      ],
      "execution_count": null,
      "outputs": []
    },
    {
      "cell_type": "code",
      "metadata": {
        "collapsed": true,
        "id": "DWq3Yc3kt0c1"
      },
      "source": [
        "# Importing librarys\n",
        "from sklearn.metrics import classification_report,accuracy_score,confusion_matrix"
      ],
      "execution_count": null,
      "outputs": []
    },
    {
      "cell_type": "code",
      "metadata": {
        "id": "ivZEKoOdt0c1",
        "colab": {
          "base_uri": "https://localhost:8080/"
        },
        "outputId": "3e5906ed-c39c-47b5-e43e-29a6035c907d"
      },
      "source": [
        "# Printing accuracy\n",
        "accuracy_score(y_test_data,predictions[\"LogisticRegression\"])"
      ],
      "execution_count": null,
      "outputs": [
        {
          "output_type": "execute_result",
          "data": {
            "text/plain": [
              "0.9496271097736491"
            ]
          },
          "metadata": {},
          "execution_count": 47
        }
      ]
    },
    {
      "cell_type": "markdown",
      "metadata": {
        "collapsed": true,
        "id": "wJOxy4vct0c2"
      },
      "source": [
        "# 5.2) SVM\n"
      ]
    },
    {
      "cell_type": "code",
      "metadata": {
        "collapsed": true,
        "id": "L35rGwt5t0c2"
      },
      "source": [
        "# Importing librarys\n",
        "from sklearn.svm import SVC"
      ],
      "execution_count": null,
      "outputs": []
    },
    {
      "cell_type": "code",
      "metadata": {
        "collapsed": true,
        "id": "stlda98dt0c2"
      },
      "source": [
        " # Taking model\n",
        " svm_model = SVC()"
      ],
      "execution_count": null,
      "outputs": []
    },
    {
      "cell_type": "code",
      "metadata": {
        "id": "uvkDUrcPt0c3",
        "colab": {
          "base_uri": "https://localhost:8080/"
        },
        "outputId": "2b8aaa64-a1c7-4429-df5d-671e61cfeb88"
      },
      "source": [
        "# Fitting train data into model\n",
        "svm_model.fit(X_train_data_new,Y_train_data) "
      ],
      "execution_count": null,
      "outputs": [
        {
          "output_type": "execute_result",
          "data": {
            "text/plain": [
              "SVC(C=1.0, break_ties=False, cache_size=200, class_weight=None, coef0=0.0,\n",
              "    decision_function_shape='ovr', degree=3, gamma='scale', kernel='rbf',\n",
              "    max_iter=-1, probability=False, random_state=None, shrinking=True,\n",
              "    tol=0.001, verbose=False)"
            ]
          },
          "metadata": {},
          "execution_count": 50
        }
      ]
    },
    {
      "cell_type": "code",
      "metadata": {
        "id": "LNkf11isc789"
      },
      "source": [
        "#  Taking accuracy of model\n",
        "predictions[\"SVM\"]=svm_model.predict(x_test_data_new)"
      ],
      "execution_count": null,
      "outputs": []
    },
    {
      "cell_type": "code",
      "metadata": {
        "id": "8Ub-qEdedHUK",
        "colab": {
          "base_uri": "https://localhost:8080/"
        },
        "outputId": "d2e15b02-7f89-4371-d5d8-b732921290ea"
      },
      "source": [
        "# Printing accuracy\n",
        "accuracy_score(y_test_data, predictions[\"SVM\"])"
      ],
      "execution_count": null,
      "outputs": [
        {
          "output_type": "execute_result",
          "data": {
            "text/plain": [
              "0.9708229752714903"
            ]
          },
          "metadata": {},
          "execution_count": 52
        }
      ]
    },
    {
      "cell_type": "markdown",
      "metadata": {
        "id": "64bfEAfWt0c4"
      },
      "source": [
        "# 5.3) Naive Bayers"
      ]
    },
    {
      "cell_type": "code",
      "metadata": {
        "collapsed": true,
        "id": "X1xMkFOHt0c5"
      },
      "source": [
        "# 1) Multinomial"
      ],
      "execution_count": null,
      "outputs": []
    },
    {
      "cell_type": "code",
      "metadata": {
        "collapsed": true,
        "id": "GSBNdfIct0c5"
      },
      "source": [
        "# Importing librarys\n",
        "from sklearn.naive_bayes import MultinomialNB"
      ],
      "execution_count": null,
      "outputs": []
    },
    {
      "cell_type": "code",
      "metadata": {
        "collapsed": true,
        "id": "Bc5b8KMzt0c6"
      },
      "source": [
        " # Taking model\n",
        "mul_model = MultinomialNB()"
      ],
      "execution_count": null,
      "outputs": []
    },
    {
      "cell_type": "code",
      "metadata": {
        "id": "Ey_fsrOmt0c7",
        "colab": {
          "base_uri": "https://localhost:8080/"
        },
        "outputId": "3312db3a-4ba4-444a-b4a1-761727cfabdd"
      },
      "source": [
        "# Fitting train data into model\n",
        "mul_model.fit(X_train_data_new,Y_train_data)"
      ],
      "execution_count": null,
      "outputs": [
        {
          "output_type": "execute_result",
          "data": {
            "text/plain": [
              "MultinomialNB(alpha=1.0, class_prior=None, fit_prior=True)"
            ]
          },
          "metadata": {},
          "execution_count": 56
        }
      ]
    },
    {
      "cell_type": "code",
      "metadata": {
        "collapsed": true,
        "id": "vAdk69Kot0c7"
      },
      "source": [
        "#  Taking accuracy of model\n",
        "predictions[\"Multinomial\"] = mul_model.predict(x_test_data_new)"
      ],
      "execution_count": null,
      "outputs": []
    },
    {
      "cell_type": "code",
      "metadata": {
        "id": "Oz6a30pAt0c7",
        "colab": {
          "base_uri": "https://localhost:8080/"
        },
        "outputId": "4257e114-13f5-4155-d46b-de018650d7e5"
      },
      "source": [
        "# Printing accuracy\n",
        "accuracy_score(y_test_data, predictions[\"Multinomial\"])"
      ],
      "execution_count": null,
      "outputs": [
        {
          "output_type": "execute_result",
          "data": {
            "text/plain": [
              "0.9379824676174278"
            ]
          },
          "metadata": {},
          "execution_count": 58
        }
      ]
    },
    {
      "cell_type": "code",
      "metadata": {
        "collapsed": true,
        "id": "I624JfT1t0c8"
      },
      "source": [
        "# 2)BernoulliNB"
      ],
      "execution_count": null,
      "outputs": []
    },
    {
      "cell_type": "code",
      "metadata": {
        "collapsed": true,
        "id": "SWLlPNoft0c8"
      },
      "source": [
        "# Importing librarys\n",
        "from sklearn.naive_bayes import BernoulliNB"
      ],
      "execution_count": null,
      "outputs": []
    },
    {
      "cell_type": "code",
      "metadata": {
        "collapsed": true,
        "id": "wWsmQak8t0c8"
      },
      "source": [
        " # Taking model\n",
        "ber_model = BernoulliNB()"
      ],
      "execution_count": null,
      "outputs": []
    },
    {
      "cell_type": "code",
      "metadata": {
        "id": "x-4f97obt0c8",
        "colab": {
          "base_uri": "https://localhost:8080/"
        },
        "outputId": "2d0d7c15-fd47-4f6b-a791-52fb7b47632a"
      },
      "source": [
        "# Fitting train data into model\n",
        "ber_model.fit(X_train_data_new,Y_train_data)"
      ],
      "execution_count": null,
      "outputs": [
        {
          "output_type": "execute_result",
          "data": {
            "text/plain": [
              "BernoulliNB(alpha=1.0, binarize=0.0, class_prior=None, fit_prior=True)"
            ]
          },
          "metadata": {},
          "execution_count": 62
        }
      ]
    },
    {
      "cell_type": "code",
      "metadata": {
        "collapsed": true,
        "id": "9J_ocj83t0c8"
      },
      "source": [
        "#  Taking accuracy of model\n",
        "predictions[\"BernoulliNB\"]=ber_model.predict(x_test_data_new)"
      ],
      "execution_count": null,
      "outputs": []
    },
    {
      "cell_type": "code",
      "metadata": {
        "id": "-kfL_dvxt0c9",
        "colab": {
          "base_uri": "https://localhost:8080/"
        },
        "outputId": "9d1c4f80-7bd6-4449-a357-8fc671f54195"
      },
      "source": [
        "# Printing accuracy\n",
        "accuracy_score(y_test_data,predictions[\"BernoulliNB\"])"
      ],
      "execution_count": null,
      "outputs": [
        {
          "output_type": "execute_result",
          "data": {
            "text/plain": [
              "0.8229752714902525"
            ]
          },
          "metadata": {},
          "execution_count": 64
        }
      ]
    },
    {
      "cell_type": "markdown",
      "metadata": {
        "id": "gs6vtDd2t0c9"
      },
      "source": [
        "# 5.4) k -NN classifier"
      ]
    },
    {
      "cell_type": "code",
      "metadata": {
        "collapsed": true,
        "id": "KQZdFDrot0c9"
      },
      "source": [
        "\n",
        "from sklearn.neighbors import KNeighborsClassifier"
      ],
      "execution_count": null,
      "outputs": []
    },
    {
      "cell_type": "code",
      "metadata": {
        "id": "mMmkt1vmt0c9",
        "colab": {
          "base_uri": "https://localhost:8080/"
        },
        "outputId": "0335734b-d6fd-49ff-9458-68a6f4e7cb25"
      },
      "source": [
        "from sklearn.neighbors import KNeighborsClassifier\n",
        "knn_model = KNeighborsClassifier(n_neighbors=5)\n",
        "knn_model.fit(X_train_data_new,Y_train_data)"
      ],
      "execution_count": null,
      "outputs": [
        {
          "output_type": "execute_result",
          "data": {
            "text/plain": [
              "KNeighborsClassifier(algorithm='auto', leaf_size=30, metric='minkowski',\n",
              "                     metric_params=None, n_jobs=None, n_neighbors=5, p=2,\n",
              "                     weights='uniform')"
            ]
          },
          "metadata": {},
          "execution_count": 66
        }
      ]
    },
    {
      "cell_type": "code",
      "metadata": {
        "collapsed": true,
        "id": "Xa_LUcaQt0c-"
      },
      "source": [
        "predictions[\"knn\"] = knn_model.predict(x_test_data_new)"
      ],
      "execution_count": null,
      "outputs": []
    },
    {
      "cell_type": "code",
      "metadata": {
        "id": "7OB4lkbtt0c-",
        "colab": {
          "base_uri": "https://localhost:8080/"
        },
        "outputId": "8106bb6f-bd86-432f-d7b4-c90638a2b980"
      },
      "source": [
        "accuracy_score(y_test_data,predictions[\"knn\"])"
      ],
      "execution_count": null,
      "outputs": [
        {
          "output_type": "execute_result",
          "data": {
            "text/plain": [
              "0.7986392777705089"
            ]
          },
          "metadata": {},
          "execution_count": 68
        }
      ]
    },
    {
      "cell_type": "markdown",
      "metadata": {
        "id": "O0HuX0Hot0c-"
      },
      "source": [
        "# 5.5)Ensemble classifier"
      ]
    },
    {
      "cell_type": "code",
      "metadata": {
        "id": "OgXn3e2_t0c-",
        "colab": {
          "base_uri": "https://localhost:8080/"
        },
        "outputId": "01fa4dcd-b709-4b30-9e03-02487964a6fa"
      },
      "source": [
        "from sklearn.ensemble import RandomForestClassifier\n",
        "ess_model = RandomForestClassifier()\n",
        "ess_model.fit(X_train_data_new,Y_train_data)"
      ],
      "execution_count": null,
      "outputs": [
        {
          "output_type": "execute_result",
          "data": {
            "text/plain": [
              "RandomForestClassifier(bootstrap=True, ccp_alpha=0.0, class_weight=None,\n",
              "                       criterion='gini', max_depth=None, max_features='auto',\n",
              "                       max_leaf_nodes=None, max_samples=None,\n",
              "                       min_impurity_decrease=0.0, min_impurity_split=None,\n",
              "                       min_samples_leaf=1, min_samples_split=2,\n",
              "                       min_weight_fraction_leaf=0.0, n_estimators=100,\n",
              "                       n_jobs=None, oob_score=False, random_state=None,\n",
              "                       verbose=0, warm_start=False)"
            ]
          },
          "metadata": {},
          "execution_count": 69
        }
      ]
    },
    {
      "cell_type": "code",
      "metadata": {
        "collapsed": true,
        "id": "zyDccATEt0c_"
      },
      "source": [
        "predictions[\"EssembleClasification\"] = ess_model.predict(x_test_data_new)"
      ],
      "execution_count": null,
      "outputs": []
    },
    {
      "cell_type": "code",
      "metadata": {
        "id": "mt_Up59kt0c_",
        "colab": {
          "base_uri": "https://localhost:8080/"
        },
        "outputId": "64019fd2-e782-4381-9080-6ea0a51b6e0d"
      },
      "source": [
        "predictions[\"EssembleClasification\"] "
      ],
      "execution_count": null,
      "outputs": [
        {
          "output_type": "execute_result",
          "data": {
            "text/plain": [
              "array([0, 1, 1, ..., 1, 0, 0])"
            ]
          },
          "metadata": {},
          "execution_count": 71
        }
      ]
    },
    {
      "cell_type": "code",
      "metadata": {
        "collapsed": true,
        "id": "EJ_-gJM_t0c_"
      },
      "source": [
        "\n",
        "from sklearn.metrics import roc_curve, auc"
      ],
      "execution_count": null,
      "outputs": []
    },
    {
      "cell_type": "code",
      "metadata": {
        "id": "vXWmZmJbt0c_",
        "colab": {
          "base_uri": "https://localhost:8080/",
          "height": 294
        },
        "outputId": "c5bdedd7-f5d8-4990-9765-b584273200c2"
      },
      "source": [
        "\n",
        "from sklearn.metrics import roc_curve, auc\n",
        "false_positive, true_positive,_= roc_curve(y_test_data,predictions[\"EssembleClasification\"])\n",
        "plt.title('Receiver Operating Characteristic')\n",
        "plt.plot(false_positive, true_positive)\n",
        "\n",
        "plt.ylabel('True Positive Rate')\n",
        "plt.xlabel('False Positive  Rate')\n",
        "plt.show()"
      ],
      "execution_count": null,
      "outputs": [
        {
          "output_type": "display_data",
          "data": {
            "image/png": "[encoded data removed]",
            "text/plain": [
              "<Figure size 432x288 with 1 Axes>"
            ]
          },
          "metadata": {
            "image/png": {
              "width": 385,
              "height": 277
            },
            "needs_background": "light"
          }
        }
      ]
    },
    {
      "cell_type": "code",
      "metadata": {
        "id": "RDi5rggbt0dA",
        "colab": {
          "base_uri": "https://localhost:8080/"
        },
        "outputId": "7a5f9b2f-9f65-4e60-b756-614d0d16677d"
      },
      "source": [
        "accuracy_score(y_test_data,predictions[\"EssembleClasification\"])"
      ],
      "execution_count": null,
      "outputs": [
        {
          "output_type": "execute_result",
          "data": {
            "text/plain": [
              "0.9636268480962973"
            ]
          },
          "metadata": {},
          "execution_count": 74
        }
      ]
    },
    {
      "cell_type": "markdown",
      "metadata": {
        "id": "grD10Xz3t0dA"
      },
      "source": [
        "# 5.6) Decision Tree"
      ]
    },
    {
      "cell_type": "code",
      "metadata": {
        "collapsed": true,
        "id": "s4BvMVoot0dA"
      },
      "source": [
        "from sklearn import tree\n",
        "\n",
        "tree_model = tree.DecisionTreeClassifier()"
      ],
      "execution_count": null,
      "outputs": []
    },
    {
      "cell_type": "code",
      "metadata": {
        "id": "XKosSNcit0dA",
        "colab": {
          "base_uri": "https://localhost:8080/"
        },
        "outputId": "d4a783b7-1ab1-4143-b680-d4fca6ad3146"
      },
      "source": [
        "tree_model.fit(X_train_data_new,Y_train_data)"
      ],
      "execution_count": null,
      "outputs": [
        {
          "output_type": "execute_result",
          "data": {
            "text/plain": [
              "DecisionTreeClassifier(ccp_alpha=0.0, class_weight=None, criterion='gini',\n",
              "                       max_depth=None, max_features=None, max_leaf_nodes=None,\n",
              "                       min_impurity_decrease=0.0, min_impurity_split=None,\n",
              "                       min_samples_leaf=1, min_samples_split=2,\n",
              "                       min_weight_fraction_leaf=0.0, presort='deprecated',\n",
              "                       random_state=None, splitter='best')"
            ]
          },
          "metadata": {},
          "execution_count": 76
        }
      ]
    },
    {
      "cell_type": "code",
      "metadata": {
        "collapsed": true,
        "id": "KqtxgxuKt0dB"
      },
      "source": [
        "predictions[\"DecisionTree\"] = tree_model.predict(x_test_data_new)"
      ],
      "execution_count": null,
      "outputs": []
    },
    {
      "cell_type": "code",
      "metadata": {
        "id": "AanBMpbdt0dB",
        "colab": {
          "base_uri": "https://localhost:8080/"
        },
        "outputId": "f03df349-852d-4958-e146-b701417b3481"
      },
      "source": [
        "accuracy_score(y_test_data,predictions[\"DecisionTree\"])"
      ],
      "execution_count": null,
      "outputs": [
        {
          "output_type": "execute_result",
          "data": {
            "text/plain": [
              "0.9441318853853199"
            ]
          },
          "metadata": {},
          "execution_count": 78
        }
      ]
    },
    {
      "cell_type": "markdown",
      "metadata": {
        "id": "kA9dmHFqt0dF"
      },
      "source": [
        "# 6) Evaluation"
      ]
    },
    {
      "cell_type": "code",
      "metadata": {
        "id": "vj9BZexdt0dF",
        "colab": {
          "base_uri": "https://localhost:8080/"
        },
        "outputId": "1559d907-3056-45fa-afd8-293c7fa46d37"
      },
      "source": [
        "# printing predections for test data\n",
        "print(classification_report(y_test_data, predictions['EssembleClasification'], target_names = [\"Good\", \"Bad\"]))"
      ],
      "execution_count": null,
      "outputs": [
        {
          "output_type": "stream",
          "name": "stdout",
          "text": [
            "              precision    recall  f1-score   support\n",
            "\n",
            "        Good       0.96      0.97      0.96      3648\n",
            "         Bad       0.97      0.96      0.97      3995\n",
            "\n",
            "    accuracy                           0.96      7643\n",
            "   macro avg       0.96      0.96      0.96      7643\n",
            "weighted avg       0.96      0.96      0.96      7643\n",
            "\n"
          ]
        }
      ]
    },
    {
      "cell_type": "code",
      "metadata": {
        "collapsed": true,
        "id": "TKVwUXOEt0dF"
      },
      "source": [
        "# creating a matrix of data\n",
        "matrix = confusion_matrix(y_test_data, predictions['EssembleClasification'])\n",
        "matrix_normalized = matrix.astype('float') / matrix.sum(axis=1)[:, np.newaxis]"
      ],
      "execution_count": null,
      "outputs": []
    },
    {
      "cell_type": "code",
      "metadata": {
        "id": "R-l-E7kGt0dG",
        "colab": {
          "base_uri": "https://localhost:8080/",
          "height": 295
        },
        "outputId": "e55d958f-d223-4a9e-848e-4eca0896c3fb"
      },
      "source": [
        "# Printing heat map\n",
        "sns.heatmap(matrix_normalized)\n",
        "plt.ylabel('Actual')\n",
        "plt.xlabel('Predicted')"
      ],
      "execution_count": null,
      "outputs": [
        {
          "output_type": "execute_result",
          "data": {
            "text/plain": [
              "Text(0.5, 15.0, 'Predicted')"
            ]
          },
          "metadata": {},
          "execution_count": 81
        },
        {
          "output_type": "display_data",
          "data": {
            "image/png": "[encoded data removed]",
            "text/plain": [
              "<Figure size 432x288 with 2 Axes>"
            ]
          },
          "metadata": {
            "image/png": {
              "width": 362,
              "height": 261
            },
            "needs_background": "light"
          }
        }
      ]
    },
    {
      "cell_type": "code",
      "metadata": {
        "id": "pZ-aE-kVt0dG",
        "colab": {
          "base_uri": "https://localhost:8080/"
        },
        "outputId": "cc2dc1de-9211-4db0-a659-5448b71537a1"
      },
      "source": [
        "# printing predections\n",
        "predictions"
      ],
      "execution_count": null,
      "outputs": [
        {
          "output_type": "execute_result",
          "data": {
            "text/plain": [
              "{'BernoulliNB': array([1, 0, 1, ..., 1, 0, 0]),\n",
              " 'DecisionTree': array([0, 1, 1, ..., 1, 0, 1]),\n",
              " 'EssembleClasification': array([0, 1, 1, ..., 1, 0, 0]),\n",
              " 'LogisticRegression': array([0, 1, 1, ..., 1, 0, 0]),\n",
              " 'Multinomial': array([0, 0, 1, ..., 1, 0, 0]),\n",
              " 'SVM': array([0, 1, 1, ..., 1, 0, 0]),\n",
              " 'knn': array([0, 1, 1, ..., 1, 1, 0])}"
            ]
          },
          "metadata": {},
          "execution_count": 82
        }
      ]
    },
    {
      "cell_type": "code",
      "metadata": {
        "collapsed": true,
        "id": "5MSyM4hCt0dI"
      },
      "source": [
        "# adding results in dictionary\n",
        "print_results = {}\n",
        "for k,v in predictions.items():\n",
        "    print_results[k] = accuracy_score(y_test_data,v)"
      ],
      "execution_count": null,
      "outputs": []
    },
    {
      "cell_type": "code",
      "metadata": {
        "id": "vsSYsQK3t0dJ",
        "colab": {
          "base_uri": "https://localhost:8080/"
        },
        "outputId": "999728ca-20f4-4642-8116-cde1b3914d09"
      },
      "source": [
        "# printing results\n",
        "print_results"
      ],
      "execution_count": null,
      "outputs": [
        {
          "output_type": "execute_result",
          "data": {
            "text/plain": [
              "{'BernoulliNB': 0.8229752714902525,\n",
              " 'DecisionTree': 0.9441318853853199,\n",
              " 'EssembleClasification': 0.9636268480962973,\n",
              " 'LogisticRegression': 0.9496271097736491,\n",
              " 'Multinomial': 0.9379824676174278,\n",
              " 'SVM': 0.9708229752714903,\n",
              " 'knn': 0.7986392777705089}"
            ]
          },
          "metadata": {},
          "execution_count": 84
        }
      ]
    },
    {
      "cell_type": "code",
      "metadata": {
        "collapsed": true,
        "id": "C-NcNawRt0dJ"
      },
      "source": [
        "# taking data of model and accuracy\n",
        "result_table=pd.DataFrame(list(print_results.items()), columns=[\"Model\",\"Accuracy\"])"
      ],
      "execution_count": null,
      "outputs": []
    },
    {
      "cell_type": "code",
      "metadata": {
        "id": "1wLJKt8vt0dJ",
        "colab": {
          "base_uri": "https://localhost:8080/",
          "height": 265
        },
        "outputId": "30c2e115-66b0-4963-b132-74a88175d366"
      },
      "source": [
        "# printing accuracy table\n",
        "result_table"
      ],
      "execution_count": null,
      "outputs": [
        {
          "output_type": "execute_result",
          "data": {
            "text/html": [
              "<div>\n",
              "<style scoped>\n",
              "    .dataframe tbody tr th:only-of-type {\n",
              "        vertical-align: middle;\n",
              "    }\n",
              "\n",
              "    .dataframe tbody tr th {\n",
              "        vertical-align: top;\n",
              "    }\n",
              "\n",
              "    .dataframe thead th {\n",
              "        text-align: right;\n",
              "    }\n",
              "</style>\n",
              "<table border=\"1\" class=\"dataframe\">\n",
              "  <thead>\n",
              "    <tr style=\"text-align: right;\">\n",
              "      <th></th>\n",
              "      <th>Model</th>\n",
              "      <th>Accuracy</th>\n",
              "    </tr>\n",
              "  </thead>\n",
              "  <tbody>\n",
              "    <tr>\n",
              "      <th>0</th>\n",
              "      <td>LogisticRegression</td>\n",
              "      <td>0.949627</td>\n",
              "    </tr>\n",
              "    <tr>\n",
              "      <th>1</th>\n",
              "      <td>SVM</td>\n",
              "      <td>0.970823</td>\n",
              "    </tr>\n",
              "    <tr>\n",
              "      <th>2</th>\n",
              "      <td>Multinomial</td>\n",
              "      <td>0.937982</td>\n",
              "    </tr>\n",
              "    <tr>\n",
              "      <th>3</th>\n",
              "      <td>BernoulliNB</td>\n",
              "      <td>0.822975</td>\n",
              "    </tr>\n",
              "    <tr>\n",
              "      <th>4</th>\n",
              "      <td>knn</td>\n",
              "      <td>0.798639</td>\n",
              "    </tr>\n",
              "    <tr>\n",
              "      <th>5</th>\n",
              "      <td>EssembleClasification</td>\n",
              "      <td>0.963627</td>\n",
              "    </tr>\n",
              "    <tr>\n",
              "      <th>6</th>\n",
              "      <td>DecisionTree</td>\n",
              "      <td>0.944132</td>\n",
              "    </tr>\n",
              "  </tbody>\n",
              "</table>\n",
              "</div>"
            ],
            "text/plain": [
              "                   Model  Accuracy\n",
              "0     LogisticRegression  0.949627\n",
              "1                    SVM  0.970823\n",
              "2            Multinomial  0.937982\n",
              "3            BernoulliNB  0.822975\n",
              "4                    knn  0.798639\n",
              "5  EssembleClasification  0.963627\n",
              "6           DecisionTree  0.944132"
            ]
          },
          "metadata": {},
          "execution_count": 86
        }
      ]
    },
    {
      "cell_type": "code",
      "metadata": {
        "id": "46uvq2NRt0dK",
        "colab": {
          "base_uri": "https://localhost:8080/",
          "height": 628
        },
        "outputId": "8a9a1a0d-8c80-404c-e7a2-ad7f4de75825"
      },
      "source": [
        "# making bar graph formodel vs accuracy\n",
        "plt.figure(figsize= (10,8))\n",
        "sns.barplot(x = \"Model\", y = \"Accuracy\", data = result_table)\n",
        "plt.title(\"Model accuracy\")\n",
        "plt.xticks(rotation = 90)"
      ],
      "execution_count": null,
      "outputs": [
        {
          "output_type": "execute_result",
          "data": {
            "text/plain": [
              "(array([0, 1, 2, 3, 4, 5, 6]), <a list of 7 Text major ticklabel objects>)"
            ]
          },
          "metadata": {},
          "execution_count": 87
        },
        {
          "output_type": "display_data",
          "data": {
            "image/png": "[encoded data removed]",
            "text/plain": [
              "<Figure size 720x576 with 1 Axes>"
            ]
          },
          "metadata": {
            "image/png": {
              "width": 608,
              "height": 594
            },
            "needs_background": "light"
          }
        }
      ]
    }
  ]
}